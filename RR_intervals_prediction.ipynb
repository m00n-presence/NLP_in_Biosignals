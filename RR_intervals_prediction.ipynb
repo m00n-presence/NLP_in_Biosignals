{
  "cells": [
    {
      "cell_type": "markdown",
      "metadata": {
        "id": "VZtdtd7zOdZu"
      },
      "source": [
        "# Import libs & download databases"
      ]
    },
    {
      "cell_type": "code",
      "execution_count": null,
      "metadata": {
        "id": "Udh1ao23dYg1"
      },
      "outputs": [],
      "source": [
        "!pip install neurokit2 wfdb"
      ]
    },
    {
      "cell_type": "code",
      "execution_count": null,
      "metadata": {
        "id": "P6sdC6c9Lyyn"
      },
      "outputs": [],
      "source": [
        "from sklearn.preprocessing import MinMaxScaler, StandardScaler\n",
        "import neurokit2 as nk\n",
        "import wfdb\n",
        "import keras\n",
        "import scipy\n",
        "import numpy\n",
        "import pandas\n",
        "from wfdb import plot\n",
        "import tensorflow as tf\n",
        "import matplotlib.pyplot as plt\n",
        "import os\n",
        "import math"
      ]
    },
    {
      "cell_type": "code",
      "execution_count": null,
      "metadata": {
        "id": "vus0MwlsqMR8"
      },
      "outputs": [],
      "source": [
        "from google.colab import drive\n",
        "drive.mount('/content/drive')"
      ]
    },
    {
      "cell_type": "markdown",
      "metadata": {
        "id": "SOqr88hlO-oX"
      },
      "source": [
        "# Reading record files & annotation"
      ]
    },
    {
      "cell_type": "code",
      "execution_count": null,
      "metadata": {
        "id": "KSH-SVGCNotQ"
      },
      "outputs": [],
      "source": [
        "datafolder = \"\" # путь к папке с ЭКГ\n",
        "SAMPLES = 700000\n",
        "\n",
        "def get_rr_intervals(datafolder, filename, sample_count=-1, to_plot=False):\n",
        "    \"\"\" Возвращает RR-интервалы для указанного файла в папке\n",
        "        Args:\n",
        "            sample_count: int, количество семплов для прочтения\n",
        "            to_plot: bool, если  True - строит график ЭКГ\n",
        "        Returns:\n",
        "            list, список интервалов между R-пиками в секундах\n",
        "    \"\"\"\n",
        "    filepath = datafolder + filename\n",
        "    # Reading the record file and annotation\n",
        "    if sample_count < 0:\n",
        "      annot = wfdb.rdann(filepath,\"atr\")\n",
        "      record = wfdb.rdrecord(filepath, channels=[0])\n",
        "    else:\n",
        "      annot = wfdb.rdann(filepath,\"atr\", sampto=sample_count)\n",
        "      record = wfdb.rdrecord(filepath, sampto=sample_count, channels=[0])\n",
        "    wave = record.__dict__[\"p_signal\"][:,0]\n",
        "\n",
        "    SMLPRATE = record.fs\n",
        "    if to_plot:\n",
        "        print(f\"Sampling frequency is {SMLPRATE}\")\n",
        "        # Plot wave\n",
        "        plot.plot_items(wave, ann_samp=[annot.sample], fs=SMLPRATE, time_units='seconds')\n",
        "    return find_rr_int_in_signal(wave, SMLPRATE)\n",
        "\n",
        "\n",
        "def find_rr_int_in_signal(signal, sampl_rate):\n",
        "    \"\"\" Возвращает список RR-интервалов в сигнале.\n",
        "        Args:\n",
        "            signal: list, список семплов сигнала\n",
        "            sampl_rate: int, частота дискретизации\n",
        "        Returns:\n",
        "            list, список интервалов между R-пиками в секундах\n",
        "    \"\"\"\n",
        "    #Clean wave for R-peaks detection\n",
        "    cleanedwave = nk.ecg_clean(signal, sampl_rate, \"neurokit\")\n",
        "    # Find R-peaks\n",
        "    rs, info = nk.ecg_peaks(cleanedwave, sampl_rate, \"neurokit\")\n",
        "    intervals = []\n",
        "    prevsample = 0 \n",
        "    for smpl in info[\"ECG_R_Peaks\"]:\n",
        "        nsmpl = smpl/sampl_rate\n",
        "        intr = nsmpl - prevsample\n",
        "        intervals.append(intr)\n",
        "        prevsample = nsmpl\n",
        "    return intervals\n",
        "    "
      ]
    },
    {
      "cell_type": "code",
      "execution_count": null,
      "metadata": {
        "id": "mfuR26WhGH2h"
      },
      "outputs": [],
      "source": [
        "#Get all recordnames in data folder \n",
        "files = os.listdir(datafolder)\n",
        "filenames = list(set([f.split('.')[0] for f in files]))\n",
        "filenames.remove(\"ANNOTATORS\")\n",
        "filenames.remove(\"RECORDS\")\n",
        "filenames.remove(\"SHA256SUMS\")"
      ]
    },
    {
      "cell_type": "code",
      "execution_count": null,
      "metadata": {
        "id": "h4k1nR2Pf52U"
      },
      "outputs": [],
      "source": [
        "for record_name in filenames:\n",
        "    rcrd = wfdb.rdrecord(datafolder + record_name, channels=[0])\n",
        "    ann = wfdb.rdann(datafolder + record_name,\"atr\")\n",
        "    print(f\"{record_name}:\")\n",
        "    print(\"\\tFrequency: \" + str(rcrd.fs)) # частота дискретизации\n",
        "    print(\"\\tSignal length, samples: \" + str((rcrd.sig_len))) # количество семплов\n",
        "    print(\"\\tSignal length: \" + str((rcrd.sig_len / rcrd.fs))) # длительность в часах\n"
      ]
    },
    {
      "cell_type": "markdown",
      "metadata": {
        "id": "Tt9cWIhPfP6A"
      },
      "source": [
        "<h1>Preparing dataset<h1>"
      ]
    },
    {
      "cell_type": "code",
      "execution_count": null,
      "metadata": {
        "id": "RMsX7-ddfYZo"
      },
      "outputs": [],
      "source": [
        "WINDOW_SIZE = 40\n",
        "\n",
        "# From:  \n",
        "# https://github.com/tensorflow/examples/blob/master/courses/udacity_intro_to_tensorflow_for_deep_learning/l08c08_forecasting_with_lstm.ipynb\n",
        "def sequential_window_dataset(series, window_size):\n",
        "    # Without overlap between samples\n",
        "    series = tf.expand_dims(series, axis=-1)\n",
        "    ds = tf.data.Dataset.from_tensor_slices(series)\n",
        "    ds = ds.window(window_size + 1, shift=window_size, drop_remainder=True)\n",
        "    ds = ds.flat_map(lambda window: window.batch(window_size + 1))\n",
        "    ds = ds.map(lambda window: (window[:-1], window[1:]))\n",
        "    return ds"
      ]
    },
    {
      "cell_type": "code",
      "execution_count": null,
      "metadata": {
        "id": "Hx_MoldpmPDp"
      },
      "outputs": [],
      "source": [
        "def read_scale_intervals(filenames, folder, scaler, samples_count):\n",
        "    \"\"\" Возвращает список интервалов по каждой записи.\n",
        "        Args:\n",
        "            filenames: list of strings, список имен файлов-записей, которые нужно прочитать\n",
        "            folder: string, папка с записями\n",
        "            scaler: sklearn scaler, с помощью которого осуществляется нормализация \n",
        "            samples_count: int, будет прочтено [0:samples_count] семплов в записи \n",
        "        Returns:\n",
        "            list of lists, список интервалов по каждому сигналу - каждый сигнал в 1 списке\n",
        "    \"\"\"\n",
        "    intervals_by_rec = []\n",
        "    rec_split_indices = [0]\n",
        "    for fn in filenames:\n",
        "        rrs = get_rr_intervals(folder, fn, samples_count)\n",
        "        intervals_by_rec.append(rrs)\n",
        "        next_idx = rec_split_indices[-1] + len(rrs)\n",
        "        rec_split_indices.append(next_idx)\n",
        "    flat_intervals = [item for sublist in intervals_by_rec for item in sublist]\n",
        "    print(f\"Length of flat intevals list: {len(flat_intervals)}\")\n",
        "    intervals = numpy.array(flat_intervals)\n",
        "    print(f\"Split indices: {rec_split_indices}\")\n",
        "    return scale_and_split(intervals, scaler, rec_split_indices[1:-1])\n",
        "\n",
        "def scale_and_split(arr_values, scaler, split_indcs):\n",
        "    \"\"\" Скалирует значения с помощью скейлера и разделяет их по индексам в подмассивы\n",
        "        Args:\n",
        "            arr_values: 1d numpy array, значения для скалирования\n",
        "            scaler: sklearn scaler, скейлер \n",
        "            split_indcs: int or 1-D array, индексы, по которым осуществляется разделение\n",
        "        Returns:\n",
        "            list of arrays, список массивов скалированных значений из arr_values, \n",
        "            каждый массив получен разбиением по split_indcs\n",
        "    \"\"\"\n",
        "    prepared_values = arr_values.reshape((-1, 1))# for min-max: (-1, 1), for standard: (1, -1)\n",
        "    values_transformed = scaler.fit_transform(prepared_values)\n",
        "    result = values_transformed.flatten()\n",
        "    split_values = numpy.split(result, split_indcs)\n",
        "    split_values = [row[numpy.isfinite(row)] for row in split_values]\n",
        "    return split_values\n",
        "\n",
        "def create_dataset_from_sequences(sequences, window_width):\n",
        "    \"\"\" Создает датасет с непересекающимся окном из последовательностей\n",
        "        Args:\n",
        "            sequences: iterable of iterables, \n",
        "            window_width: int, ширина окна для входов\n",
        "        Returns:\n",
        "            prefetched Tensorflow dataset, batch_size=1\n",
        "    \"\"\"\n",
        "    result = None\n",
        "    for seq in sequences:\n",
        "        step_ds = sequential_window_dataset(seq, window_width)\n",
        "        if not result:\n",
        "            result = step_ds\n",
        "        else:\n",
        "            result = result.concatenate(step_ds)\n",
        "    return result.batch(1).prefetch(1)\n"
      ]
    },
    {
      "cell_type": "code",
      "execution_count": null,
      "metadata": {
        "id": "0CY4KH86f-Ej"
      },
      "outputs": [],
      "source": [
        "# Test\n",
        "test_scaler = MinMaxScaler()\n",
        "ints = read_scale_intervals(filenames[:2], datafolder, test_scaler, SAMPLES)\n",
        "test_dataset = create_dataset_from_sequences(ints, WINDOW_SIZE)\n",
        "test_counter = 10\n",
        "for x, y in test_dataset:\n",
        "    x = x.numpy()\n",
        "    y = y.numpy()\n",
        "    print(x[:,-4 :, :], y[:, :3, :])"
      ]
    },
    {
      "cell_type": "code",
      "execution_count": null,
      "metadata": {
        "id": "CvRUp9_kGMlQ"
      },
      "outputs": [],
      "source": [
        "scaler = MinMaxScaler()\n",
        "train_border = math.floor(len(filenames) * 0.8)\n",
        "scaled_intervals_train = read_scale_intervals(filenames[:train_border], datafolder, scaler, SAMPLES)\n",
        "print(f\"Length of intervals array: {len(scaled_intervals_train)}\")\n",
        "\n",
        "print(f\"Length of intervals for training ds: {len(scaled_intervals_train)}\")\n",
        "train_ds = create_dataset_from_sequences(scaled_intervals_train, WINDOW_SIZE)\n",
        "scaled_intervals_valid = read_scale_intervals(filenames[train_border:], datafolder, scaler, SAMPLES)\n",
        "valid_ds = create_dataset_from_sequences(scaled_intervals_valid, WINDOW_SIZE)"
      ]
    },
    {
      "cell_type": "markdown",
      "metadata": {
        "id": "JKm7DbSkMqEu"
      },
      "source": [
        "<h1>Training Model</h1>"
      ]
    },
    {
      "cell_type": "code",
      "execution_count": null,
      "metadata": {
        "id": "rpuIrGTdMvRd"
      },
      "outputs": [],
      "source": [
        "class ResetStatesCallback(keras.callbacks.Callback):\n",
        "    def on_epoch_begin(self, epoch, logs):\n",
        "        self.model.reset_states()"
      ]
    },
    {
      "cell_type": "code",
      "execution_count": null,
      "metadata": {
        "colab": {
          "base_uri": "https://localhost:8080/"
        },
        "id": "t23GtRBOP2ic",
        "outputId": "b5005c18-6d44-45c4-93f8-7c83013cff9b"
      },
      "outputs": [
        {
          "name": "stdout",
          "output_type": "stream",
          "text": [
            "Model: \"sequential\"\n",
            "_________________________________________________________________\n",
            "Layer (type)                 Output Shape              Param #   \n",
            "=================================================================\n",
            "lstm (LSTM)                  (1, None, 50)             10400     \n",
            "_________________________________________________________________\n",
            "lstm_1 (LSTM)                (1, None, 100)            60400     \n",
            "_________________________________________________________________\n",
            "dense (Dense)                (1, None, 1)              101       \n",
            "=================================================================\n",
            "Total params: 70,901\n",
            "Trainable params: 70,901\n",
            "Non-trainable params: 0\n",
            "_________________________________________________________________\n"
          ]
        }
      ],
      "source": [
        "keras.backend.clear_session()\n",
        "\n",
        "model = keras.models.Sequential([\n",
        "  keras.layers.LSTM(50, return_sequences=True, stateful=True,\n",
        "                    batch_input_shape=[1, None, 1], dropout=0.2),\n",
        "  keras.layers.LSTM(100, return_sequences=True, stateful=True, dropout=0.2),\n",
        "  keras.layers.Dense(1, activation=\"sigmoid\")\n",
        "])\n",
        "\n",
        "reset_states = ResetStatesCallback()\n",
        "early_stop = tf.keras.callbacks.EarlyStopping(monitor=\"loss\", mode='min')\n",
        "optimizer = tf.keras.optimizers.Adam()\n",
        "\n",
        "model.compile(loss=keras.losses.MeanSquaredError(),\n",
        "              optimizer=optimizer,\n",
        "              metrics=[\"mse\"])\n",
        "model.summary()"
      ]
    },
    {
      "cell_type": "code",
      "execution_count": null,
      "metadata": {
        "id": "MyEd676ng7Os"
      },
      "outputs": [],
      "source": [
        "EPOCHS_COUNT = 5\n",
        "history = model.fit(train_ds, epochs=EPOCHS_COUNT,\n",
        "                    callbacks=[reset_states], \n",
        "                    validation_data=valid_ds)"
      ]
    },
    {
      "cell_type": "code",
      "execution_count": null,
      "metadata": {
        "id": "x_0AgDaWtuRp"
      },
      "outputs": [],
      "source": [
        "# Saving model\n",
        "save_path = \"\" # путь до папки, в которую сохранить модель\n",
        "model.save(save_path)"
      ]
    },
    {
      "cell_type": "markdown",
      "metadata": {
        "id": "kFzXZQpjb9XZ"
      },
      "source": [
        "<h1>Prediction</h1>"
      ]
    },
    {
      "cell_type": "code",
      "execution_count": null,
      "metadata": {
        "id": "GGl3rSP_jr16"
      },
      "outputs": [],
      "source": [
        "load_path = \"\"\n",
        "model = tf.keras.models.load_model(load_path) # путь до папки, из которой модель загрузить"
      ]
    },
    {
      "cell_type": "code",
      "execution_count": null,
      "metadata": {
        "colab": {
          "base_uri": "https://localhost:8080/",
          "height": 374
        },
        "id": "2n40GdOxtTNH",
        "outputId": "b009845c-8572-4333-d11a-dfa77739b547"
      },
      "outputs": [
        {
          "data": {
            "image/png": "[encoded data removed]",
            "text/plain": [
              "<Figure size 720x432 with 1 Axes>"
            ]
          },
          "metadata": {
            "needs_background": "light"
          },
          "output_type": "display_data"
        }
      ],
      "source": [
        "import random \n",
        "import statistics as stats\n",
        "\n",
        "\n",
        "plt.figure(figsize=(10, 6))\n",
        "n_intervals = 25\n",
        "\n",
        "random_record = datafolder + random.choice(filenames)\n",
        "ann = wfdb.rdann(random_record,\"atr\", sampfrom=SAMPLES)\n",
        "rec = wfdb.rdrecord(random_record, sampfrom=SAMPLES, channels=[0])\n",
        "rr_intervals = find_rr_int_in_signal(rec.__dict__[\"p_signal\"][:,0], rec.fs)\n",
        "intervs = numpy.array(rr_intervals[0:n_intervals])\n",
        "goal = rr_intervals[n_intervals:n_intervals * 2]\n",
        "\n",
        "prediction_scaler = MinMaxScaler()\n",
        "intervs = intervs.reshape((-1, 1))\n",
        "prediction_scaler = prediction_scaler.fit(intervs)\n",
        "input_seq = prediction_scaler.transform(intervs).reshape(1, n_intervals, 1)\n",
        "pred = model.predict(input_seq)\n",
        "standard_pred = prediction_scaler.inverse_transform(pred.reshape(1, -1))\n",
        "\n",
        "plt.plot(range(1, n_intervals + 1), intervs, label=\"given\", color=\"blue\")\n",
        "plt.plot(range(n_intervals, n_intervals*2), goal, label=\"real\", color=\"green\")\n",
        "plt.plot(range(n_intervals, n_intervals*2), standard_pred[0], label=\"predicted\", color=\"red\")\n",
        "plt.ylabel(\"RRI (ms)\")\n",
        "plt.legend()\n",
        "plt.show()"
      ]
    },
    {
      "cell_type": "code",
      "execution_count": null,
      "metadata": {
        "colab": {
          "base_uri": "https://localhost:8080/"
        },
        "id": "Tlq_CtkcFNhg",
        "outputId": "8dad4bcd-b108-4526-9bb8-7c93e06e3cb9"
      },
      "outputs": [
        {
          "name": "stdout",
          "output_type": "stream",
          "text": [
            "Prediction:\n",
            "[[0.63748485 0.64567846 0.64533544 0.64504516 0.6459878  0.64660454\n",
            "  0.6454625  0.64775294 0.65192914 0.68651164 0.7096591  0.7171149\n",
            "  0.7145313  0.7047019  0.6939036  0.6838191  0.6754345  0.66836244\n",
            "  0.6651235  0.6806889  0.71879566 0.7268238  0.73271424 0.73693746\n",
            "  0.73556435]]\n",
            "\n",
            "Actual:\n",
            "[0.765625, 0.765625, 0.75, 0.7734375, 0.75, 0.765625, 0.78125, 0.765625, 0.7890625, 0.75, 0.765625, 0.7890625, 0.75, 0.734375, 0.6796875, 0.671875, 0.671875, 0.71875, 0.7265625, 0.7421875, 0.78125, 0.796875, 0.828125, 0.828125, 0.78125]\n"
          ]
        }
      ],
      "source": [
        "print(\"Prediction:\")\n",
        "print(standard_pred)\n",
        "print(\"\\nActual:\")\n",
        "print(goal)"
      ]
    }
  ],
  "metadata": {
    "accelerator": "GPU",
    "colab": {
      "collapsed_sections": [],
      "name": "NLP_in_Biosignals.ipynb",
      "provenance": []
    },
    "kernelspec": {
      "display_name": "Python 3",
      "name": "python3"
    },
    "language_info": {
      "name": "python"
    }
  },
  "nbformat": 4,
  "nbformat_minor": 0
}
